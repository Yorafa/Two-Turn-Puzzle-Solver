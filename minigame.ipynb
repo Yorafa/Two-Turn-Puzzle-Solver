{
 "cells": [
  {
   "cell_type": "code",
   "execution_count": null,
   "metadata": {},
   "outputs": [],
   "source": [
    "import pyautogui\n",
    "from PIL import Image, ImageGrab\n",
    "from collections import defaultdict, deque, Counter\n",
    "import numpy as np\n",
    "import cv2"
   ]
  },
  {
   "cell_type": "code",
   "execution_count": null,
   "metadata": {},
   "outputs": [],
   "source": [
    "IMAGEPOS1 = (294, 453)\n",
    "IMAGEPOS2 = (1240, 969)\n",
    "COL = 11\n",
    "ROW = 6\n",
    "MAX_TURN = 2\n",
    "BOXES = 35"
   ]
  },
  {
   "cell_type": "code",
   "execution_count": null,
   "metadata": {},
   "outputs": [],
   "source": [
    "PIC_WIDTH = (IMAGEPOS2[0] - IMAGEPOS1[0]) / COL\n",
    "PIC_HEIGHT = (IMAGEPOS2[1] - IMAGEPOS1[1]) / ROW\n",
    "print(PIC_WIDTH, PIC_HEIGHT)"
   ]
  },
  {
   "cell_type": "code",
   "execution_count": null,
   "metadata": {},
   "outputs": [],
   "source": [
    "def click(y, x):\n",
    "    real_x = IMAGEPOS1[0] + x * PIC_WIDTH + PIC_WIDTH / 2\n",
    "    real_y = IMAGEPOS1[1] + y * PIC_HEIGHT + PIC_HEIGHT / 2\n",
    "    pyautogui.moveTo(real_x, real_y, duration=0.1)\n",
    "    # pyautogui.sleep(0.2)\n",
    "    pyautogui.click()"
   ]
  },
  {
   "cell_type": "code",
   "execution_count": null,
   "metadata": {},
   "outputs": [],
   "source": [
    "def get_image():\n",
    "    image = ImageGrab.grab(bbox=(IMAGEPOS1[0], IMAGEPOS1[1], IMAGEPOS2[0], IMAGEPOS2[1]))\n",
    "    return image"
   ]
  },
  {
   "cell_type": "code",
   "execution_count": null,
   "metadata": {},
   "outputs": [],
   "source": [
    "id_image = {}\n",
    "for i in range(BOXES + 1):\n",
    "    id_image[i] = Image.open(f\"img/{i}.png\")"
   ]
  },
  {
   "cell_type": "code",
   "execution_count": null,
   "metadata": {},
   "outputs": [],
   "source": [
    "# cv template matching\n",
    "def cv_match(img, template):\n",
    "    img = cv2.cvtColor(np.array(img), cv2.COLOR_RGB2BGR)\n",
    "    template = cv2.cvtColor(np.array(template), cv2.COLOR_RGB2BGR)\n",
    "    res = cv2.matchTemplate(img, template, cv2.TM_CCOEFF_NORMED)\n",
    "    min_val, max_val, min_loc, max_loc = cv2.minMaxLoc(res)\n",
    "    match_area = img[max_loc[1]:max_loc[1]+template.shape[0], max_loc[0]:max_loc[0]+template.shape[1]]\n",
    "    mean1 = cv2.mean(cv2.cvtColor(match_area, cv2.COLOR_BGR2HSV))[:3]\n",
    "    mean2 = cv2.mean(cv2.cvtColor(template, cv2.COLOR_BGR2HSV))[:3]\n",
    "    return max_val, -np.linalg.norm(np.array(mean1) - np.array(mean2))"
   ]
  },
  {
   "cell_type": "code",
   "execution_count": null,
   "metadata": {},
   "outputs": [],
   "source": [
    "def get_gameboard(image):\n",
    "    minigame_board = [[-1] * (COL + 2) for _ in range(ROW + 2)]\n",
    "    cnter = defaultdict(list)\n",
    "    split_image_dict = defaultdict(defaultdict)\n",
    "    for i in range(ROW):\n",
    "        for j in range(COL):\n",
    "            small_image = image.crop((j * PIC_WIDTH, i * PIC_HEIGHT, (j + 1) * PIC_WIDTH, (i + 1) * PIC_HEIGHT))\n",
    "            split_image_dict[i][j] = small_image\n",
    "            score_list = []\n",
    "            for k, v in id_image.items():\n",
    "                cv_score = cv_match(small_image, v)\n",
    "                if cv_score[0] > 0.7:\n",
    "                    score_list.append((cv_score[0], cv_score[1], k))\n",
    "            score_list.sort(key=lambda x: x[1], reverse=True)\n",
    "            if score_list and score_list[0][0] > 0.7:\n",
    "                cnter[score_list[0][2]].append((i + 1, j + 1))\n",
    "                minigame_board[i+1][j+1] = score_list[0][2]\n",
    "            if minigame_board[i+1][j+1] == -1:\n",
    "                print(\"unknown image\", i+1, j+1)\n",
    "                # small_image.save(f\"img/({i},{j}).png\")\n",
    "    return minigame_board, cnter, split_image_dict"
   ]
  },
  {
   "cell_type": "code",
   "execution_count": null,
   "metadata": {},
   "outputs": [],
   "source": [
    "def move(board, st, ed):\n",
    "    directions = [(0, 1), (0, -1), (1, 0), (-1, 0)]\n",
    "    def dfs(x, y, turn, dir):\n",
    "        if x < 0 or x >= ROW + 2 or y < 0 or y >= COL + 2 or turn > MAX_TURN:\n",
    "            return False\n",
    "        if (x, y) == ed:\n",
    "            board[st[0]][st[1]] = -1\n",
    "            board[ed[0]][ed[1]] = -1\n",
    "            click(st[0] - 1, st[1] - 1)\n",
    "            click(ed[0] - 1, ed[1] - 1)\n",
    "            return True\n",
    "        if board[x][y] == BOXES or board[x][y] != -1:\n",
    "            return False\n",
    "        for next in directions:\n",
    "            if next == dir:\n",
    "                res = dfs(x + next[0], y + next[1], turn, next)\n",
    "            else:\n",
    "                res = dfs(x + next[0], y + next[1], turn + 1, next)\n",
    "            if res:\n",
    "                return True\n",
    "        return False\n",
    "    for dir in directions:\n",
    "        if dfs(st[0] + dir[0], st[1] + dir[1], 0, dir):\n",
    "            return True\n",
    "    return False"
   ]
  },
  {
   "cell_type": "code",
   "execution_count": null,
   "metadata": {},
   "outputs": [],
   "source": [
    "def copy_cnter(cnter):\n",
    "    res = defaultdict(list)\n",
    "    for k, v in cnter.items():\n",
    "        res[k] = v.copy()\n",
    "    return res"
   ]
  },
  {
   "cell_type": "code",
   "execution_count": null,
   "metadata": {},
   "outputs": [],
   "source": [
    "def solve():\n",
    "    image = get_image()\n",
    "    gameboard, cnter, _ = get_gameboard(image)\n",
    "    if BOXES in cnter:\n",
    "        del cnter[BOXES]\n",
    "    blocks = sum([len(v) for k, v in cnter.items()])\n",
    "    cnt = 0\n",
    "    while blocks:\n",
    "        flag = True\n",
    "        for i in range(BOXES):\n",
    "            if len(cnter[i]) == 0:\n",
    "                continue\n",
    "            lst_cp = cnter[i].copy()\n",
    "            flip = False\n",
    "            for j in range(len(lst_cp)):\n",
    "                for k in range(j + 1, len(lst_cp)):\n",
    "                    if move(gameboard, lst_cp[j], lst_cp[k]):\n",
    "                        print(\"click\", lst_cp[j], lst_cp[k])\n",
    "                        cnter[i].remove(lst_cp[j])\n",
    "                        cnter[i].remove(lst_cp[k])\n",
    "                        flag = False\n",
    "                        flip = True\n",
    "                        break\n",
    "                if flip:\n",
    "                    break\n",
    "             # checki if the game is over\n",
    "            try:    \n",
    "                ok_pos = pyautogui.locateCenterOnScreen('./img/ok.png')\n",
    "                if ok_pos:\n",
    "                    pyautogui.click(ok_pos)\n",
    "                    pyautogui.click(ok_pos)\n",
    "                    return\n",
    "                break\n",
    "            except:\n",
    "                pass\n",
    "        if flag:\n",
    "            # reget the gameboard for some blocks may be removed but not clicked\n",
    "            image = get_image()\n",
    "            gameboard, cnter, _ = get_gameboard(image)\n",
    "            if BOXES in cnter:\n",
    "                del cnter[BOXES]\n",
    "            blocks = sum([len(v) for k, v in cnter.items()])\n",
    "            cnt += 1\n",
    "            # should not get too many times\n",
    "            if cnt > 3:\n",
    "                break"
   ]
  },
  {
   "cell_type": "code",
   "execution_count": null,
   "metadata": {},
   "outputs": [],
   "source": [
    "def play():\n",
    "    # use pyautogui to click the skip button\n",
    "    skip_pos = pyautogui.locateCenterOnScreen('./img/skip.png')\n",
    "    if skip_pos:\n",
    "        pyautogui.click(skip_pos)\n",
    "        pyautogui.click(skip_pos)\n",
    "    # wait for the game to start\n",
    "    pyautogui.sleep(13)\n",
    "    solve()\n",
    "    pyautogui.sleep(10)\n",
    "    # use pyautogui to click the close button\n",
    "    close_pos = pyautogui.locateCenterOnScreen('./img/close.png')\n",
    "    if close_pos:\n",
    "        pyautogui.click(close_pos)\n",
    "        pyautogui.click(close_pos)\n",
    "    pyautogui.sleep(5)"
   ]
  },
  {
   "cell_type": "code",
   "execution_count": null,
   "metadata": {},
   "outputs": [],
   "source": [
    "while 1:\n",
    "    play()"
   ]
  }
 ],
 "metadata": {
  "kernelspec": {
   "display_name": ".venv",
   "language": "python",
   "name": "python3"
  },
  "language_info": {
   "codemirror_mode": {
    "name": "ipython",
    "version": 3
   },
   "file_extension": ".py",
   "mimetype": "text/x-python",
   "name": "python",
   "nbconvert_exporter": "python",
   "pygments_lexer": "ipython3",
   "version": "3.11.0"
  }
 },
 "nbformat": 4,
 "nbformat_minor": 2
}
